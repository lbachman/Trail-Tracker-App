{
 "cells": [
  {
   "cell_type": "markdown",
   "metadata": {},
   "source": [
    "1. create Data folder in project\n",
    "2. add user class and ApplicationDbContext classes in Data folder"
   ]
  },
  {
   "cell_type": "markdown",
   "metadata": {},
   "source": [
    "### ApplicationDbContext\n",
    "```\n",
    "using Microsoft.AspNetCore.Identity.EntityFrameworkCore;\n",
    "using Microsoft.EntityFrameworkCore;\n",
    "\n",
    "namespace MountiansApp.Data\n",
    "{\n",
    "    public class ApplicationDbContext : IdentityDbContext<ApplicationUser>\n",
    "    {\n",
    "        public ApplicationDbContext(DbContextOptions<ApplicationDbContext> options)\n",
    "            : base(options) \n",
    "        { }\n",
    "\n",
    "        protected override void OnModelCreating(ModelBuilder builder)\n",
    "        {\n",
    "            base.OnModelCreating(builder);\n",
    "            // you can customize database settings here\n",
    "        }\n",
    "    }\n",
    "}\n",
    "```"
   ]
  },
  {
   "cell_type": "markdown",
   "metadata": {},
   "source": [
    "### ApplicationUser\n",
    "\n",
    "```\n",
    "using Microsoft.AspNetCore.Identity;\n",
    "\n",
    "namespace MountiansApp.Data\n",
    "{\n",
    "    /// <summary>\n",
    "    ///  having this class allows to add additional fields, extends identity user object\n",
    "    /// </summary>\n",
    "    public class ApplicationUser : IdentityUser\n",
    "    {\n",
    "\n",
    "    }\n",
    "}\n",
    "```"
   ]
  },
  {
   "cell_type": "markdown",
   "metadata": {},
   "source": [
    "## Register Identity Context\n",
    "```\n",
    "var connectionString = builder.Configuration.GetConnectionString(\"AuthorizationConnection\") ?? throw new InvalidOperationException(\"Connection string 'AuthorizationConnection' not found.\");\n",
    "builder.Services.AddDbContext<ApplicationDbContext>(options => options.UseSqlServer(connectionString));\n",
    "```"
   ]
  },
  {
   "cell_type": "markdown",
   "metadata": {},
   "source": [
    "### Connection String\n",
    "`\"AuthorizationConnection\": \"Server=(localdb)\\\\MSSQLLocalDB;Database=Authentication;Trusted_Connection=True;\"`"
   ]
  }
 ],
 "metadata": {
  "language_info": {
   "name": "python"
  }
 },
 "nbformat": 4,
 "nbformat_minor": 2
}
